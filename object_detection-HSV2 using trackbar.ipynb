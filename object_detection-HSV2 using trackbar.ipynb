{
 "cells": [
  {
   "cell_type": "code",
   "execution_count": 1,
   "metadata": {},
   "outputs": [],
   "source": [
    "import cv2\n",
    "import numpy as np"
   ]
  },
  {
   "cell_type": "code",
   "execution_count": 2,
   "metadata": {},
   "outputs": [
    {
     "name": "stdout",
     "output_type": "stream",
     "text": [
      "87 163 68 137 255 255\n"
     ]
    }
   ],
   "source": [
    "def nothing(x):\n",
    "    pass\n",
    "\n",
    "cv2.namedWindow('track',cv2.WINDOW_NORMAL)\n",
    "\n",
    "cv2.createTrackbar('LH','track',0,255,nothing)\n",
    "cv2.createTrackbar('LS','track',0,255,nothing)\n",
    "cv2.createTrackbar('LV','track',0,255,nothing)\n",
    "cv2.createTrackbar('UH','track',255,255,nothing)\n",
    "cv2.createTrackbar('US','track',255,255,nothing)\n",
    "cv2.createTrackbar('UV','track',255,255,nothing)\n",
    "\n",
    "while True:\n",
    "    frame=cv2.imread('egg_colorful.jpg',1)\n",
    "    \n",
    "    hsv=cv2.cvtColor(frame,cv2.COLOR_BGR2HSV)\n",
    "    \n",
    "    l_h=cv2.getTrackbarPos('LH','track')\n",
    "    l_s=cv2.getTrackbarPos('LS','track')\n",
    "    l_v=cv2.getTrackbarPos('LV','track')\n",
    "    \n",
    "    u_h=cv2.getTrackbarPos('UH','track')\n",
    "    u_s=cv2.getTrackbarPos('US','track')\n",
    "    u_v=cv2.getTrackbarPos('UV','track')\n",
    "    \n",
    "    l_b=np.array([l_h,l_s,l_v])\n",
    "    u_b=np.array([u_h,u_s,u_v])\n",
    "    \n",
    "    mask=cv2.inRange(hsv,l_b,u_b)\n",
    "    \n",
    "    result=cv2.bitwise_and(frame,frame,mask=mask)\n",
    "    \n",
    "    cv2.imshow(\"frame\",frame)\n",
    "    cv2.imshow(\"mask\",mask)\n",
    "    cv2.imshow(\"result\",result)\n",
    "    k=cv2.waitKey(1)\n",
    "    if k==27:\n",
    "        break\n",
    "    elif k== ord(\"s\"):\n",
    "        cv2.imwrite('obj_dec.png',result)\n",
    "        print(l_h,l_s,l_v,u_h,u_s,u_v)\n",
    "\n",
    "\n",
    "cv2.destroyAllWindows()"
   ]
  }
 ],
 "metadata": {
  "kernelspec": {
   "display_name": "Python 3",
   "language": "python",
   "name": "python3"
  },
  "language_info": {
   "codemirror_mode": {
    "name": "ipython",
    "version": 3
   },
   "file_extension": ".py",
   "mimetype": "text/x-python",
   "name": "python",
   "nbconvert_exporter": "python",
   "pygments_lexer": "ipython3",
   "version": "3.7.4"
  }
 },
 "nbformat": 4,
 "nbformat_minor": 2
}
