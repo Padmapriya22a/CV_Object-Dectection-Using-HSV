{
 "cells": [
  {
   "cell_type": "code",
   "execution_count": 9,
   "metadata": {},
   "outputs": [],
   "source": [
    "import cv2\n",
    "import numpy as np"
   ]
  },
  {
   "cell_type": "code",
   "execution_count": 11,
   "metadata": {},
   "outputs": [],
   "source": [
    "def nothing(x):\n",
    "    pass\n",
    "cap= cv2.VideoCapture(1);\n",
    "fourcc=cv2.VideoWriter_fourcc(*'XVID')\n",
    "out=cv2.VideoWriter('video.mp4',fourcc,15.0,(640,480))\n",
    "\n",
    "\n",
    "while True:\n",
    "    \n",
    "   \n",
    "    cap. open(1, cv2. CAP_DSHOW)\n",
    "    ret,frame = cap.read()\n",
    "   \n",
    "    hsv=cv2.cvtColor(frame,cv2.COLOR_BGR2HSV)\n",
    "\n",
    "    \n",
    "    l_b=np.array([87,163,68])\n",
    "    u_b=np.array([137,255,255])\n",
    "    \n",
    "    mask=cv2.inRange(hsv,l_b,u_b)\n",
    "    \n",
    "    result=cv2.bitwise_and(frame,frame,mask=mask)\n",
    "    \n",
    "    cv2.imshow(\"frame\",frame)\n",
    "    cv2.imshow(\"mask\",mask)\n",
    "    cv2.imshow(\"result\",result)\n",
    "    \n",
    "    k=cv2.waitKey(1)\n",
    "    out.write(result)\n",
    "    if k==27:\n",
    "        break\n",
    "        \n",
    "\n",
    "cap.release()\n",
    "cv2.destroyAllWindows()"
   ]
  },
  {
   "cell_type": "code",
   "execution_count": null,
   "metadata": {},
   "outputs": [],
   "source": []
  },
  {
   "cell_type": "code",
   "execution_count": null,
   "metadata": {},
   "outputs": [],
   "source": [
    "img=cv2.imread('D:/tech/Untitled Folder/flo.jpg',1)\n",
    "_,th1=cv2.threshold(img,135,255,cv2.THRESH_BINARY_INV)\n",
    "cv2.imshow(\"img\",img)\n",
    "cv2.imshow(\"th1\",th1)\n",
    "cv2.waitKey(0)\n",
    "cv2.destroyAllWindows()"
   ]
  },
  {
   "cell_type": "code",
   "execution_count": null,
   "metadata": {},
   "outputs": [],
   "source": [
    "img=cv2.imread('D:/tech/Untitled Folder/flo.jpg',0)\n",
    "th1=cv2.adaptiveThreshold(img,255,cv2.ADAPTIVE_THRESH_MEAN_C,cv2.THRESH_BINARY,11,2);\n",
    "cv2.imshow(\"img\",img)\n",
    "cv2.imshow(\"th1\",th1)\n",
    "cv2.waitKey(0)\n",
    "cv2.destroyAllWindows()"
   ]
  },
  {
   "cell_type": "code",
   "execution_count": null,
   "metadata": {},
   "outputs": [],
   "source": []
  },
  {
   "cell_type": "code",
   "execution_count": null,
   "metadata": {},
   "outputs": [],
   "source": []
  }
 ],
 "metadata": {
  "kernelspec": {
   "display_name": "Python 3",
   "language": "python",
   "name": "python3"
  },
  "language_info": {
   "codemirror_mode": {
    "name": "ipython",
    "version": 3
   },
   "file_extension": ".py",
   "mimetype": "text/x-python",
   "name": "python",
   "nbconvert_exporter": "python",
   "pygments_lexer": "ipython3",
   "version": "3.7.4"
  }
 },
 "nbformat": 4,
 "nbformat_minor": 2
}
